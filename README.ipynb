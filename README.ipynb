{
 "cells": [
  {
   "cell_type": "markdown",
   "metadata": {},
   "source": [
    "# PyBites - Code Every Day Project\n",
    "\n",
    "This repo will be used to solve pybites from [Py bites Challenges]('https://codechalleng.es'). There are more the 270 python challenges and the idea is solve at least one a day. I will include the resolved pybites daily."
   ]
  },
  {
   "cell_type": "markdown",
   "metadata": {},
   "source": [
    "# Bite 19 - Write a simple property\n",
    "\n",
    "Write a simple Promo class. Its constructor receives a name `str` and expires `datetime`.\n",
    "\n",
    "Add a property called expired which returns a boolean value indicating whether the promo has expired or not.\n",
    "\n",
    "Checkout the tests and datetime module for more info. Have fun!\n",
    "\n",
    "Check the solution -> [click here]('https://github.com/rodrigobmedeiros/PyBites-Code-EveryDay/blob/master/19/simple_property.py') "
   ]
  }
 ],
 "metadata": {
  "kernelspec": {
   "display_name": "Python 3",
   "language": "python",
   "name": "python3"
  },
  "language_info": {
   "codemirror_mode": {
    "name": "ipython",
    "version": 3
   },
   "file_extension": ".py",
   "mimetype": "text/x-python",
   "name": "python",
   "nbconvert_exporter": "python",
   "pygments_lexer": "ipython3",
   "version": "3.7.6"
  }
 },
 "nbformat": 4,
 "nbformat_minor": 4
}
