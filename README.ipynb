{
 "cells": [
  {
   "cell_type": "markdown",
   "metadata": {},
   "source": [
    "# PyBites - Code Every Day Project\n",
    "\n",
    "This repo will be used to solve pybites from [Py bites Challenges]('https://codechalleng.es'). There are more the 270 python challenges and the idea is solve at least one a day. I will include the resolved pybites daily."
   ]
  },
  {
   "cell_type": "markdown",
   "metadata": {},
   "source": [
    "# Bite 19 - Write a simple property\n",
    "\n",
    "Write a simple Promo class. Its constructor receives a name `str` and expires `datetime`.\n",
    "\n",
    "Add a property called expired which returns a boolean value indicating whether the promo has expired or not.\n",
    "\n",
    "Checkout the tests and datetime module for more info. Have fun!\n",
    "\n",
    "Check the solution -> [click here]('https://github.com/rodrigobmedeiros/PyBites-Code-EveryDay/blob/master/19/simple_property.py') "
   ]
  },
  {
   "cell_type": "markdown",
   "metadata": {},
   "source": [
    "# Bite 167 - Complete a User class: properties and representation dunder methods"
   ]
  },
  {
   "cell_type": "markdown",
   "metadata": {},
   "source": [
    "In this Bite you are presented with another class, `User` this time.\n",
    "\n",
    "Like last Bite you are asked to complete it, see the `TODO`s in the code below:\n",
    "\n",
    "Complete the `get_full_name` property (more on properties here) that prints first and last name separated by a space.\n",
    "Complete the `username` property following its docstring.\n",
    "Complete the special representation dunder methods: `__str__` and `__repr__`. Look at the tests what they should return. Brace yourself for some bonus learning for a twist we added in `__repr__` (but as it's a Beginner Bite we give you a hint!)\n",
    "Apart from Ned's awesome answer on SO, to give you an idea about the difference between `__str__` and `__repr__`, check out how `datetime` implements them:"
   ]
  }
 ],
 "metadata": {
  "kernelspec": {
   "display_name": "Python 3",
   "language": "python",
   "name": "python3"
  },
  "language_info": {
   "codemirror_mode": {
    "name": "ipython",
    "version": 3
   },
   "file_extension": ".py",
   "mimetype": "text/x-python",
   "name": "python",
   "nbconvert_exporter": "python",
   "pygments_lexer": "ipython3",
   "version": "3.7.6"
  }
 },
 "nbformat": 4,
 "nbformat_minor": 4
}
