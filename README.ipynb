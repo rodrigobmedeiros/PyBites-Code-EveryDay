{
 "cells": [
  {
   "cell_type": "markdown",
   "metadata": {},
   "source": [
    "# PyBites - Code Every Day Project\n",
    "\n",
    "This repo will be used to solve pybites from [Py bites Challenges]('https://codechalleng.es'). There are more the 270 python challenges and the idea is solve at least one a day. I will include the resolved pybites daily."
   ]
  },
  {
   "cell_type": "markdown",
   "metadata": {},
   "source": [
    "# Bite 19 - Write a simple property\n",
    "\n",
    "Write a simple Promo class. Its constructor receives a name `str` and expires `datetime`.\n",
    "\n",
    "Add a property called expired which returns a boolean value indicating whether the promo has expired or not.\n",
    "\n",
    "Checkout the tests and datetime module for more info. Have fun!\n",
    "\n",
    "Check the solution -> [click here]('https://github.com/rodrigobmedeiros/PyBites-Code-EveryDay/blob/master/19/simple_property.py') "
   ]
  },
  {
   "cell_type": "markdown",
   "metadata": {},
   "source": [
    "# Bite 167 - Complete a User class: properties and representation dunder methods"
   ]
  },
  {
   "cell_type": "markdown",
   "metadata": {},
   "source": [
    "In this Bite you are presented with another class, `User` this time.\n",
    "\n",
    "Like last Bite you are asked to complete it, see the `TODO`s in the code below:\n",
    "\n",
    "Complete the `get_full_name` property (more on properties here) that prints first and last name separated by a space.\n",
    "Complete the `username` property following its docstring.\n",
    "Complete the special representation dunder methods: `__str__` and `__repr__`. Look at the tests what they should return. Brace yourself for some bonus learning for a twist we added in `__repr__` (but as it's a Beginner Bite we give you a hint!)\n",
    "Apart from Ned's awesome answer on SO, to give you an idea about the difference between `__str__` and `__repr__`, check out how `datetime` implements them:"
   ]
  },
  {
   "cell_type": "code",
   "execution_count": 14,
   "metadata": {},
   "outputs": [],
   "source": [
    "teste = 2"
   ]
  },
  {
   "cell_type": "code",
   "execution_count": 27,
   "metadata": {},
   "outputs": [],
   "source": [
    "from matplotlib import pyplot"
   ]
  },
  {
   "cell_type": "code",
   "execution_count": 28,
   "metadata": {},
   "outputs": [
    {
     "data": {
      "text/plain": [
       "module"
      ]
     },
     "execution_count": 28,
     "metadata": {},
     "output_type": "execute_result"
    }
   ],
   "source": [
    "pyplot.__class__"
   ]
  },
  {
   "cell_type": "code",
   "execution_count": 29,
   "metadata": {},
   "outputs": [],
   "source": [
    "class User:\n",
    "    \"\"\"A User class\n",
    "       (Django's User model inspired us)\n",
    "    \"\"\"\n",
    "\n",
    "    def __init__(self, first_name, last_name):\n",
    "        \"\"\"Constructor, base values\"\"\"\n",
    "        self.first_name = first_name\n",
    "        self.last_name = last_name\n",
    "\n",
    "    @property\n",
    "    def get_full_name(self):\n",
    "        \"\"\"Return first separated by a whitespace\n",
    "           and using title case for both.\n",
    "        \"\"\"\n",
    "        complete_name = self.first_name + ' ' + self.last_name\n",
    "        return complete_name.title()\n",
    "\n",
    "    @property\n",
    "    def username(self):\n",
    "        \"\"\"A username consists of the first char of\n",
    "           the user's first_name and the first 7 chars\n",
    "           of the user's last_name, both lowercased.\n",
    "\n",
    "           If this is your first property, check out:\n",
    "           https://pybit.es/property-decorator.html\n",
    "        \"\"\"\n",
    "        user_name = self.first_name[0].lower() + self.last_name[:7].lower()\n",
    "        return user_name\n",
    "\n",
    "    # add a __str__ and a __repr__\n",
    "    # see: https://stackoverflow.com/a/1438297\n",
    "    # \"__repr__ is for devs, __str__ is for customers\"\n",
    "    #\n",
    "    # see also TESTS for required output\n",
    "\n",
    "    def __str__(self):\n",
    "        return f'{self.get_full_name} ({self.username})'\n",
    "\n",
    "    def __repr__(self):\n",
    "        \"\"\"Don't hardcode the class name, hint: use a\n",
    "           special attribute of self.__class__ ...\n",
    "        \"\"\"\n",
    "        return f'{self.__class__}(\"{self.first_name}\", \"{self.last_name}\")'\n",
    "\n"
   ]
  },
  {
   "cell_type": "code",
   "execution_count": 31,
   "metadata": {},
   "outputs": [],
   "source": [
    "teste = User('rodrigo','bernardo')"
   ]
  },
  {
   "cell_type": "code",
   "execution_count": 32,
   "metadata": {},
   "outputs": [
    {
     "data": {
      "text/plain": [
       "'User'"
      ]
     },
     "execution_count": 32,
     "metadata": {},
     "output_type": "execute_result"
    }
   ],
   "source": [
    "teste.__class__.__name__"
   ]
  },
  {
   "cell_type": "code",
   "execution_count": 36,
   "metadata": {},
   "outputs": [
    {
     "ename": "AttributeError",
     "evalue": "'super' object has no attribute '__name__'",
     "output_type": "error",
     "traceback": [
      "\u001b[1;31m---------------------------------------------------------------------------\u001b[0m",
      "\u001b[1;31mAttributeError\u001b[0m                            Traceback (most recent call last)",
      "\u001b[1;32m<ipython-input-36-b26de1edbccd>\u001b[0m in \u001b[0;36m<module>\u001b[1;34m\u001b[0m\n\u001b[1;32m----> 1\u001b[1;33m \u001b[0msuper\u001b[0m\u001b[1;33m(\u001b[0m\u001b[0mtype\u001b[0m\u001b[1;33m(\u001b[0m\u001b[0mteste\u001b[0m\u001b[1;33m)\u001b[0m\u001b[1;33m)\u001b[0m\u001b[1;33m.\u001b[0m\u001b[0m__name__\u001b[0m\u001b[1;33m\u001b[0m\u001b[1;33m\u001b[0m\u001b[0m\n\u001b[0m",
      "\u001b[1;31mAttributeError\u001b[0m: 'super' object has no attribute '__name__'"
     ]
    }
   ],
   "source": [
    "super(type(teste)).__name__"
   ]
  },
  {
   "cell_type": "code",
   "execution_count": null,
   "metadata": {},
   "outputs": [],
   "source": []
  }
 ],
 "metadata": {
  "kernelspec": {
   "display_name": "Python 3",
   "language": "python",
   "name": "python3"
  },
  "language_info": {
   "codemirror_mode": {
    "name": "ipython",
    "version": 3
   },
   "file_extension": ".py",
   "mimetype": "text/x-python",
   "name": "python",
   "nbconvert_exporter": "python",
   "pygments_lexer": "ipython3",
   "version": "3.7.6"
  }
 },
 "nbformat": 4,
 "nbformat_minor": 4
}
