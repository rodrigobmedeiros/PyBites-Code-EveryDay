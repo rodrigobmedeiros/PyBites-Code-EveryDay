{
 "cells": [
  {
   "cell_type": "markdown",
   "id": "7dc48ac4",
   "metadata": {},
   "source": [
    "Ninjas according to their number of Bites.\n",
    "\n",
    "We are going to delve into some Object Oriented Programming here because we want to retain state as we add more Ninjas to the Ranking class.\n",
    "\n",
    "I have laid out the structure of the script for you. Your task is to flesh out the Ninja and Rankings classes.\n",
    "\n",
    "The Ninja class will have the following features:\n",
    "\n",
    "- string name\n",
    "- integer bites\n",
    "- support <, >, and ==, based on bites\n",
    "- print out in the following format: [469] bob\n",
    "\n",
    "The Rankings class will have the following features:\n",
    "\n",
    "- method add() that adds a Ninja object to the rankings\n",
    "- method dump() that removes/dumps (and returns) the lowest ranking Ninja from Rankings\n",
    "- method highest() returns the highest ranking Ninja, but it takes an optional count parameter indicating how many of the highest ranking Ninjas to return\n",
    "- method lowest(), the same as highest but returns the lowest ranking Ninjas, also supports an optional count parameter\n",
    "returns how many Ninjas are in Rankings when len() is called on it\n",
    "- a pair_up() method that pairs up study partners: the highest with the lowest Ninja of the ranking instance, then the second highest with the second lowest Ninja of the ranking etc. It takes an optional count parameter indicating how many Ninjas to pair up (default = 3).\n",
    "\n",
    "Remember, that the standard library is your friend, best of luck!"
   ]
  },
  {
   "cell_type": "code",
   "execution_count": 1,
   "id": "0ebc89ef",
   "metadata": {},
   "outputs": [],
   "source": [
    "from dataclasses import dataclass\n",
    "from typing import List, Tuple\n",
    "\n",
    "bites: List[int] = [283, 282, 281, 263, 255, 230, 216, 204, 197, 196, 195]\n",
    "names: List[str] = [\n",
    "    \"snow\",\n",
    "    \"natalia\",\n",
    "    \"alex\",\n",
    "    \"maquina\",\n",
    "    \"maria\",\n",
    "    \"tim\",\n",
    "    \"kenneth\",\n",
    "    \"fred\",\n",
    "    \"james\",\n",
    "    \"sara\",\n",
    "    \"sam\",\n",
    "]\n",
    "\n",
    "\n",
    "@dataclass\n",
    "class Ninja:\n",
    "    \"\"\"\n",
    "    The Ninja class will have the following features:\n",
    "\n",
    "    string: name\n",
    "    integer: bites\n",
    "    support <, >, and ==, based on bites\n",
    "    print out in the following format: [469] bob\n",
    "    \"\"\"\n",
    "    name: str\n",
    "    bites: int\n",
    "    \n",
    "    def __lt__(self, other):\n",
    "        \n",
    "        return self.bites < other.bites\n",
    "    \n",
    "    def __gt__(self, other):\n",
    "        \n",
    "        return self.bites > other.bites\n",
    "    \n",
    "    def __eq__(self, other):\n",
    "        \n",
    "        return self.bites == other.bites\n",
    "    \n",
    "    def __str__(self):\n",
    "        \n",
    "        return f'[{self.bites} {self.name}]'"
   ]
  },
  {
   "cell_type": "code",
   "execution_count": 3,
   "id": "9d436933",
   "metadata": {},
   "outputs": [],
   "source": [
    "rodrigo = Ninja('Rodrigo', 100)\n",
    "renata = Ninja('Renata', 101)"
   ]
  },
  {
   "cell_type": "code",
   "execution_count": 5,
   "id": "092b382d",
   "metadata": {},
   "outputs": [],
   "source": [
    "lista = [\n",
    "    renata, \n",
    "    rodrigo\n",
    "]"
   ]
  },
  {
   "cell_type": "code",
   "execution_count": 8,
   "id": "96b40f31",
   "metadata": {},
   "outputs": [
    {
     "data": {
      "text/plain": [
       "Ninja(name='Rodrigo', bites=100)"
      ]
     },
     "execution_count": 8,
     "metadata": {},
     "output_type": "execute_result"
    }
   ],
   "source": [
    "min(lista)"
   ]
  },
  {
   "cell_type": "markdown",
   "id": "2321a13d",
   "metadata": {},
   "source": [
    "Interesting to do a video about that;"
   ]
  }
 ],
 "metadata": {
  "kernelspec": {
   "display_name": "Python 3",
   "language": "python",
   "name": "python3"
  },
  "language_info": {
   "codemirror_mode": {
    "name": "ipython",
    "version": 3
   },
   "file_extension": ".py",
   "mimetype": "text/x-python",
   "name": "python",
   "nbconvert_exporter": "python",
   "pygments_lexer": "ipython3",
   "version": "3.8.8"
  }
 },
 "nbformat": 4,
 "nbformat_minor": 5
}
