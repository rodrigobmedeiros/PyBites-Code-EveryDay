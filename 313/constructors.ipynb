{
 "cells": [
  {
   "cell_type": "markdown",
   "id": "ec0c18a8",
   "metadata": {},
   "source": [
    "# Bite 313. Alternative constructors\n",
    "\n",
    "In this Bite your are provided with a Domain class and a DomainException custom exception class.\n",
    "\n",
    "You will add some validation to the current constructor to check if a valid domain name is passed in.\n",
    "\n",
    "Next you will add a __str__ special method to represent the object (basically the name attribute) and you will write two classmethods to construct domains:\n",
    "\n",
    "    1. from a URL\n",
    "\n",
    "    2. from an email\n",
    "\n",
    "Here you can see the code in action (also make sure you check out the tests):"
   ]
  },
  {
   "cell_type": "code",
   "execution_count": 50,
   "id": "5253e32a",
   "metadata": {},
   "outputs": [],
   "source": [
    "import re\n",
    "\n",
    "SITE_PROTOCOL = [\n",
    "    'http://',\n",
    "    'https://',\n",
    "    'https:/'\n",
    "]\n",
    "\n",
    "class DomainException(Exception):\n",
    "    \"\"\"Raised when an invalid is created.\"\"\"\n",
    "\n",
    "\n",
    "class Domain:\n",
    "\n",
    "    def __init__(self, name):\n",
    "        # validate a current domain (r'.*\\.[a-z]{2,3}$' is fine)\n",
    "        # if not valid, raise a DomainException\n",
    "        self.pattern = r'.*\\.[a-z]{2,3}$'\n",
    "        self.pattern_matches = re.findall(self.pattern, name)\n",
    "        \n",
    "        if not self.pattern_matches:\n",
    "            raise DomainException\n",
    "            \n",
    "        self.name = name\n",
    "        \n",
    "    def __str__(self):\n",
    "        \n",
    "        return self.pattern_matches[0]\n",
    "    \n",
    "    @classmethod\n",
    "    def parse_url(cls, url):\n",
    "        \n",
    "        # identify and replace protocols for empty char\n",
    "        for protocol in SITE_PROTOCOL:\n",
    "            \n",
    "            url = url.replace(protocol, '')\n",
    "        \n",
    "        # Ignore if url have additional endpoints information\n",
    "        url = url.split(r'/')[0]\n",
    "        \n",
    "        # Guarantee to get only two terms to define the domain.\n",
    "        # Example: www.gmail.com will return gmail.com\n",
    "        domain = '.'.join(url.split('.')[-2:])\n",
    "        \n",
    "        return cls(domain)\n",
    "    \n",
    "    @classmethod\n",
    "    def parse_email(cls, email):\n",
    "        \n",
    "        domain = email.split('@')[-1]\n",
    "        \n",
    "        return cls(domain)"
   ]
  },
  {
   "cell_type": "code",
   "execution_count": 51,
   "id": "e73d84b2",
   "metadata": {},
   "outputs": [],
   "source": [
    "domain = Domain.parse_url('https:/pybit.es/get-python-source.html-pybit.es')"
   ]
  },
  {
   "cell_type": "markdown",
   "id": "aa51017e",
   "metadata": {},
   "source": [
    "# Considerations about my solution\n",
    "\n",
    "1) I decided to create a global list to put terms I want to identify and replace by empty char. I think it's not a problem keep protocols possibilities here because I can enrich this list when I want without impact the code.\n",
    "\n",
    "2) To parse url, I just removed endpoints info, to keep only the domain and used a join method to concatenate only the two last terms.\n",
    "\n",
    "3) To parse email was easy, just splitted on '@'"
   ]
  },
  {
   "cell_type": "markdown",
   "id": "7407e3c1",
   "metadata": {},
   "source": [
    "# PyBites Solution"
   ]
  },
  {
   "cell_type": "code",
   "execution_count": 62,
   "id": "2a70e6d0",
   "metadata": {},
   "outputs": [],
   "source": [
    "import re\n",
    "\n",
    "\n",
    "class DomainException(Exception):\n",
    "    \"\"\"Raised when an invalid is created.\"\"\"\n",
    "\n",
    "\n",
    "class Domain:\n",
    "\n",
    "    def __init__(self, name):\n",
    "        if not re.match(r'.*\\.[a-z]{2,3}$', name.lower()):\n",
    "            raise DomainException(f\"{name} is an invalid domain\")\n",
    "        self.name = name\n",
    "\n",
    "    def __str__(self):\n",
    "        return self.name\n",
    "\n",
    "    @classmethod\n",
    "    def parse_url(cls, url):\n",
    "        name = re.sub(r'https?://(?:www.)?([^.]+?\\.[a-z]{2,3}).*',\n",
    "                      r'\\1', url)\n",
    "        return cls(name)\n",
    "\n",
    "    @classmethod\n",
    "    def parse_email(cls, email):\n",
    "        name = email.split('@')[1]\n",
    "        return cls(name)"
   ]
  },
  {
   "cell_type": "markdown",
   "id": "d6ef86d4",
   "metadata": {},
   "source": [
    "1) use a lot of regular expression to identify the url domain (to parse url)\n",
    "\n",
    "2) point for me: implemented parse_email in the same way."
   ]
  },
  {
   "cell_type": "markdown",
   "id": "d118569a",
   "metadata": {},
   "source": [
    "# Learning more about tests"
   ]
  },
  {
   "cell_type": "code",
   "execution_count": 63,
   "id": "6267a0fc",
   "metadata": {},
   "outputs": [],
   "source": [
    "import pytest\n",
    "# from constructors import Domain, DomainException\n",
    "\n",
    "# To create tests, I just have to create functions with prefix test_ \n",
    "# concatenating with a specific name that make sense (clean code =D).\n",
    "\n",
    "def test_create_domain_from_name():\n",
    "    domain = Domain('google.com')\n",
    "    assert str(domain) == 'google.com'\n",
    "    domain = Domain('nu.nl')\n",
    "    assert str(domain) == 'nu.nl'\n",
    "    \n",
    "def test_invalid_domain():\n",
    "    with pytest.raises(DomainException):\n",
    "        Domain('nu.nlll')\n",
    "\n",
    "# @pytest.mark.parametrize is a tool to run many scenarios with only one test\n",
    "# parameters:\n",
    "# string with parameters names separated by ,\n",
    "# Ex: \"arg, expected\"\n",
    "# Second parameter a list of tuples containing many parameters as needed.\n",
    "# Ex: [('https://pybit.es', 'pybit.es'), ...]\n",
    "        \n",
    "@pytest.mark.parametrize(\"arg, expected\", [\n",
    "    ('https://pybit.es', 'pybit.es'),\n",
    "    ('http://pybit.es', 'pybit.es'),\n",
    "    ('https://pybit.es/get-python-source.html', 'pybit.es'),\n",
    "    (\"https://nu.nl\", \"nu.nl\"),\n",
    "    (\"https://python.org/\", \"python.org\"),\n",
    "    (\"https://stackoverflow.com/a/14836456\", \"stackoverflow.com\"),\n",
    "])\n",
    "def test_create_domain_from_url(arg, expected):\n",
    "    domain = Domain.parse_url(arg)\n",
    "    assert type(domain) == Domain\n",
    "    assert str(domain) == expected\n",
    "    \n",
    "@pytest.mark.parametrize('arg, expected', [\n",
    "    ('bob@pybit.es', 'pybit.es'),\n",
    "    (\"bob@gmail.com\", \"gmail.com\"),\n",
    "    (\"tim@example.net\", \"example.net\"),\n",
    "    (\"sara@hotmail.co.uk\", \"hotmail.co.uk\"),\n",
    "])\n",
    "def test_create_domain_from_email(arg, expected):\n",
    "    domain = Domain.parse_email(arg)\n",
    "    assert type(domain) == Domain\n",
    "    assert str(domain) == expected"
   ]
  },
  {
   "cell_type": "code",
   "execution_count": null,
   "id": "9996c743",
   "metadata": {},
   "outputs": [],
   "source": []
  },
  {
   "cell_type": "code",
   "execution_count": null,
   "id": "b7545e55",
   "metadata": {},
   "outputs": [],
   "source": []
  },
  {
   "cell_type": "code",
   "execution_count": null,
   "id": "6489eeb0",
   "metadata": {},
   "outputs": [],
   "source": []
  }
 ],
 "metadata": {
  "kernelspec": {
   "display_name": "Python 3",
   "language": "python",
   "name": "python3"
  },
  "language_info": {
   "codemirror_mode": {
    "name": "ipython",
    "version": 3
   },
   "file_extension": ".py",
   "mimetype": "text/x-python",
   "name": "python",
   "nbconvert_exporter": "python",
   "pygments_lexer": "ipython3",
   "version": "3.8.8"
  }
 },
 "nbformat": 4,
 "nbformat_minor": 5
}
